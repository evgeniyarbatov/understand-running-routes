{
 "cells": [
  {
   "cell_type": "code",
   "execution_count": 5,
   "id": "60966def",
   "metadata": {},
   "outputs": [],
   "source": [
    "import os\n",
    "import glob\n",
    "import requests\n",
    "\n",
    "import pandas as pd\n",
    "\n",
    "from utils import parse_gpx, get_output_path"
   ]
  },
  {
   "cell_type": "code",
   "execution_count": 6,
   "id": "29e01586",
   "metadata": {},
   "outputs": [],
   "source": [
    "CITY = 'singapore'\n",
    "# CITY = 'hanoi'\n",
    "\n",
    "OSMR_URL = \"http://127.0.0.1:6000/nearest/v1/foot\"\n",
    "DATA_DIR = f\"../data/{CITY}\""
   ]
  },
  {
   "cell_type": "code",
   "execution_count": 7,
   "id": "571319c5",
   "metadata": {},
   "outputs": [],
   "source": [
    "def get_nearest(coords):\n",
    "    lat, lon = coords\n",
    "    response = requests.get(f\"{OSMR_URL}/{lon},{lat}\")\n",
    "    response.raise_for_status()\n",
    "\n",
    "    df = pd.DataFrame(columns=['latitude', 'longitude', 'node_id'])\n",
    "\n",
    "    data = response.json()\n",
    "    if 'waypoints' in data:\n",
    "        waypoints = data['waypoints']\n",
    "        info = [(\n",
    "            lat,\n",
    "            lon,\n",
    "            wp['nodes'],\n",
    "            wp['distance'],\n",
    "        ) for wp in waypoints]\n",
    "        df = pd.DataFrame(info, columns=[\n",
    "            'lat',\n",
    "            'lon',\n",
    "            'nodes',\n",
    "            'distance',\n",
    "        ])\n",
    "\n",
    "    return df\n",
    "\n",
    "def query_osrm(df):\n",
    "    results = []\n",
    "\n",
    "    for _, row in df.iterrows():\n",
    "        nearest_df = get_nearest((row['latitude'], row['longitude']))\n",
    "        results.append(nearest_df)\n",
    "\n",
    "    return pd.concat(results).reset_index(drop=True)  \n",
    "\n",
    "def get_nodes():\n",
    "    gpx_files = glob.glob(\n",
    "      os.path.join(f\"{DATA_DIR}/gpx\", '*.gpx')\n",
    "    )\n",
    "    for gpx_file in gpx_files:\n",
    "        output_path = get_output_path(f\"{DATA_DIR}/nodes\", gpx_file, 'csv')\n",
    "\n",
    "        if os.path.exists(output_path):\n",
    "            continue\n",
    "\n",
    "        df = parse_gpx(gpx_file)\n",
    "\n",
    "        osrm_df = query_osrm(df)\n",
    "\n",
    "        osrm_df.to_csv(output_path, index=False)"
   ]
  },
  {
   "cell_type": "code",
   "execution_count": 8,
   "id": "36325d64",
   "metadata": {},
   "outputs": [],
   "source": [
    "get_nodes()"
   ]
  },
  {
   "cell_type": "code",
   "execution_count": null,
   "id": "485643ed",
   "metadata": {},
   "outputs": [],
   "source": []
  }
 ],
 "metadata": {
  "kernelspec": {
   "display_name": "Python 3 (ipykernel)",
   "language": "python",
   "name": "python3"
  },
  "language_info": {
   "codemirror_mode": {
    "name": "ipython",
    "version": 3
   },
   "file_extension": ".py",
   "mimetype": "text/x-python",
   "name": "python",
   "nbconvert_exporter": "python",
   "pygments_lexer": "ipython3",
   "version": "3.11.9"
  }
 },
 "nbformat": 4,
 "nbformat_minor": 5
}
