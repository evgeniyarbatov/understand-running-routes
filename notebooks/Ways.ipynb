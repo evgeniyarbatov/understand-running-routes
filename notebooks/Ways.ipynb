{
 "cells": [
  {
   "cell_type": "code",
   "execution_count": 6,
   "id": "89bc94b2",
   "metadata": {},
   "outputs": [],
   "source": [
    "import os\n",
    "import glob\n",
    "import requests\n",
    "import ast\n",
    "import threading\n",
    "\n",
    "import pandas as pd\n",
    "\n",
    "from utils import get_output_path"
   ]
  },
  {
   "cell_type": "code",
   "execution_count": 7,
   "id": "56e07f51",
   "metadata": {},
   "outputs": [],
   "source": [
    "CITY = 'singapore'\n",
    "# CITY = 'hanoi'\n",
    "\n",
    "OVERPASS_API_URL = \"http://localhost:8000/api/interpreter\"\n",
    "DATA_DIR = f\"../data/{CITY}\""
   ]
  },
  {
   "cell_type": "code",
   "execution_count": 8,
   "id": "c9f6b53c",
   "metadata": {},
   "outputs": [],
   "source": [
    "def call_overpass_api(nodes, lat, lon):\n",
    "    node_1, node_2 = nodes\n",
    "    overpass_query = f\"\"\"\n",
    "        [out:json];\n",
    "        node(id:{node_1}, {node_2});\n",
    "        way(bn);\n",
    "        out count tags;\n",
    "    \"\"\"\n",
    "\n",
    "    response = requests.get(\n",
    "        OVERPASS_API_URL, \n",
    "        params={'data': overpass_query}\n",
    "    )\n",
    "    data = response.json()\n",
    "    \n",
    "    tags, ways = [], []\n",
    "    for element in data['elements']:\n",
    "        ways.append(element['id'])\n",
    "        if 'tags' in element:\n",
    "            tags.append(element['tags'])\n",
    "\n",
    "    info = [(\n",
    "        lat,\n",
    "        lon,\n",
    "        ways,\n",
    "        tags,\n",
    "    )]\n",
    "\n",
    "    df = pd.DataFrame(info, columns=[\n",
    "        'lat',\n",
    "        'lon',\n",
    "        'ways',\n",
    "        'tags',\n",
    "    ])\n",
    "\n",
    "    return df\n",
    "\n",
    "def query_overpass_api(df):\n",
    "    results = []\n",
    "\n",
    "    for _, row in df.iterrows():\n",
    "        overpass_df = call_overpass_api(row['nodes'], row['lat'], row['lon']) \n",
    "        results.append(overpass_df)\n",
    "\n",
    "    return pd.concat(results).reset_index(drop=True)\n",
    "\n",
    "def process_file(csv_file):\n",
    "    print(f\"Processing: {csv_file}\")\n",
    "\n",
    "    output_path = get_output_path(f\"{DATA_DIR}/ways\", csv_file, 'csv')\n",
    "    if os.path.exists(output_path):\n",
    "        return\n",
    "    \n",
    "    df = pd.read_csv(csv_file)\n",
    "    df['nodes'] = df['nodes'].apply(ast.literal_eval)\n",
    "\n",
    "    overpass_df = query_overpass_api(df)\n",
    "    overpass_df.to_csv(output_path, index=False)\n",
    "\n",
    "def get_ways():    \n",
    "    csv_files = glob.glob(\n",
    "        os.path.join(f\"{DATA_DIR}/nodes\", '*.csv')\n",
    "    )\n",
    "    for csv_file in csv_files:\n",
    "        thread = threading.Thread(target=process_file, args=(csv_file,))\n",
    "        thread.start()"
   ]
  },
  {
   "cell_type": "code",
   "execution_count": 9,
   "id": "14b67d33",
   "metadata": {},
   "outputs": [
    {
     "name": "stdout",
     "output_type": "stream",
     "text": [
      "Processing: ../data/singapore/nodes/Smash 80km.csv\n",
      "Processing: ../data/singapore/nodes/Wild Boar Trail Run 25km.csv\n",
      "Processing: ../data/singapore/nodes/HARDCORE 103km ver 2.csv\n",
      "Processing: ../data/singapore/nodes/Wild Boar Trail Run 45km.csv\n",
      "Processing: ../data/singapore/nodes/Shiok! 200km.csv\n",
      "Processing: ../data/singapore/nodes/Destroy 80km.csv\n",
      "Processing: ../data/singapore/nodes/Lucky 88.88km 2024.csv\n",
      "Processing: ../data/singapore/nodes/Gila100km.csv\n",
      "Processing: ../data/singapore/nodes/RouteACrazeUltra101km.csv\n",
      "Processing: ../data/singapore/nodes/SG200Miles2024.csv\n",
      "Processing: ../data/singapore/nodes/POWER La! 100km Ultramarathon.csv\n",
      "Processing: ../data/singapore/nodes/100MilesChallenge.csv\n"
     ]
    }
   ],
   "source": [
    "get_ways()"
   ]
  },
  {
   "cell_type": "code",
   "execution_count": null,
   "id": "c4159c08",
   "metadata": {},
   "outputs": [],
   "source": []
  }
 ],
 "metadata": {
  "kernelspec": {
   "display_name": "Python 3 (ipykernel)",
   "language": "python",
   "name": "python3"
  },
  "language_info": {
   "codemirror_mode": {
    "name": "ipython",
    "version": 3
   },
   "file_extension": ".py",
   "mimetype": "text/x-python",
   "name": "python",
   "nbconvert_exporter": "python",
   "pygments_lexer": "ipython3",
   "version": "3.11.9"
  }
 },
 "nbformat": 4,
 "nbformat_minor": 5
}
