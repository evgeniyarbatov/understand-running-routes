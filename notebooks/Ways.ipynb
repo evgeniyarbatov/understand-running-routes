{
 "cells": [
  {
   "cell_type": "code",
   "execution_count": 5,
   "id": "d1508643",
   "metadata": {},
   "outputs": [],
   "source": [
    "import os\n",
    "import glob\n",
    "import requests\n",
    "import ast\n",
    "import threading\n",
    "\n",
    "import pandas as pd\n",
    "\n",
    "from utils import get_output_path"
   ]
  },
  {
   "cell_type": "code",
   "execution_count": 6,
   "id": "a8ee7300",
   "metadata": {},
   "outputs": [],
   "source": [
    "OVERPASS_API_URL = \"http://localhost:8000/api/interpreter\"\n",
    "DATA_DIR = '../data'"
   ]
  },
  {
   "cell_type": "code",
   "execution_count": 15,
   "id": "bd0948a4",
   "metadata": {},
   "outputs": [],
   "source": [
    "def call_overpass_api(nodes, lat, lon):\n",
    "    node_1, node_2 = nodes\n",
    "    overpass_query = f\"\"\"\n",
    "        [out:json];\n",
    "        node(id:{node_1}, {node_2});\n",
    "        way(bn);\n",
    "        out count tags;\n",
    "    \"\"\"\n",
    "\n",
    "    response = requests.get(\n",
    "        OVERPASS_API_URL, \n",
    "        params={'data': overpass_query}\n",
    "    )\n",
    "    data = response.json()\n",
    "    \n",
    "    tags, ways = [], []\n",
    "    for element in data['elements']:\n",
    "        ways.append(element['id'])\n",
    "        if 'tags' in element:\n",
    "            tags.append(element['tags'])\n",
    "\n",
    "    info = [(\n",
    "        lat,\n",
    "        lon,\n",
    "        ways,\n",
    "        tags,\n",
    "    )]\n",
    "\n",
    "    df = pd.DataFrame(info, columns=[\n",
    "        'lat',\n",
    "        'lon',\n",
    "        'ways',\n",
    "        'tags',\n",
    "    ])\n",
    "\n",
    "    return df\n",
    "\n",
    "def query_overpass_api(df):\n",
    "    results = []\n",
    "\n",
    "    for _, row in df.iterrows():\n",
    "        overpass_df = call_overpass_api(row['nodes'], row['lat'], row['lon']) \n",
    "        results.append(overpass_df)\n",
    "\n",
    "    return pd.concat(results).reset_index(drop=True)\n",
    "\n",
    "def process_file(csv_file):\n",
    "    print(f\"Processing: {csv_file}\")\n",
    "\n",
    "    df = pd.read_csv(csv_file)\n",
    "    df['nodes'] = df['nodes'].apply(ast.literal_eval)\n",
    "\n",
    "    overpass_df = query_overpass_api(df)\n",
    "\n",
    "    output_path = get_output_path(f\"{DATA_DIR}/ways\", csv_file, 'csv')\n",
    "    overpass_df.to_csv(output_path, index=False)\n",
    "\n",
    "def get_ways():    \n",
    "    csv_files = glob.glob(\n",
    "        os.path.join(f\"{DATA_DIR}/nodes\", '*.csv')\n",
    "    )\n",
    "    for csv_file in csv_files:\n",
    "        thread = threading.Thread(target=process_file, args=(csv_file,))\n",
    "        thread.start()"
   ]
  },
  {
   "cell_type": "code",
   "execution_count": 16,
   "id": "5e792836",
   "metadata": {},
   "outputs": [
    {
     "name": "stdout",
     "output_type": "stream",
     "text": [
      "Processing: ../data/nodes/activity_16484306615.csv\n",
      "Processing: ../data/nodes/activity_16415058410.csv\n",
      "Processing: ../data/nodes/activity_16029315632.csv\n",
      "Processing: ../data/nodes/activity_16348243122.csv\n",
      "Processing: ../data/nodes/activity_16380464978.csv\n",
      "Processing: ../data/nodes/activity_16365140444.csv\n",
      "Processing: ../data/nodes/activity_16500084099.csv\n",
      "Processing: ../data/nodes/activity_16517080769.csv\n"
     ]
    }
   ],
   "source": [
    "get_ways()"
   ]
  },
  {
   "cell_type": "code",
   "execution_count": null,
   "id": "ec93498a",
   "metadata": {},
   "outputs": [],
   "source": []
  }
 ],
 "metadata": {
  "kernelspec": {
   "display_name": "Python 3 (ipykernel)",
   "language": "python",
   "name": "python3"
  },
  "language_info": {
   "codemirror_mode": {
    "name": "ipython",
    "version": 3
   },
   "file_extension": ".py",
   "mimetype": "text/x-python",
   "name": "python",
   "nbconvert_exporter": "python",
   "pygments_lexer": "ipython3",
   "version": "3.11.9"
  }
 },
 "nbformat": 4,
 "nbformat_minor": 5
}
