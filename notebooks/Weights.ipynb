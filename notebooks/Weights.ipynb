{
 "cells": [
  {
   "cell_type": "code",
   "execution_count": 4,
   "id": "d6ef7ae3",
   "metadata": {},
   "outputs": [],
   "source": [
    "import os\n",
    "import glob\n",
    "\n",
    "import pandas as pd"
   ]
  },
  {
   "cell_type": "code",
   "execution_count": 5,
   "id": "50bf6dc3",
   "metadata": {},
   "outputs": [],
   "source": [
    "DATA_DIR = '../data'\n",
    "WEIGHT_MIN = 1\n",
    "WEIGHT_MAX = 10"
   ]
  },
  {
   "cell_type": "code",
   "execution_count": 6,
   "id": "d0f5c222",
   "metadata": {},
   "outputs": [],
   "source": [
    "def get_weights(group):\n",
    "    min_count = group['Count'].min()\n",
    "    max_count = group['Count'].max()\n",
    "    group['Weight'] = WEIGHT_MIN + (group['Count'] - min_count) * (WEIGHT_MAX - 1) / (max_count - min_count)\n",
    "    return group"
   ]
  },
  {
   "cell_type": "code",
   "execution_count": 7,
   "id": "5c1d42ae",
   "metadata": {},
   "outputs": [
    {
     "name": "stderr",
     "output_type": "stream",
     "text": [
      "/var/folders/5n/flhvrbg930x4c6qpncw2qq_80000gn/T/ipykernel_42730/3189712212.py:28: DeprecationWarning: DataFrameGroupBy.apply operated on the grouping columns. This behavior is deprecated, and in a future version of pandas the grouping columns will be excluded from the operation. Either pass `include_groups=False` to exclude the groupings or explicitly select the grouping columns after groupby to silence this warning.\n",
      "  combined_df = combined_df.groupby('Key').apply(get_weights)\n"
     ]
    }
   ],
   "source": [
    "all_dfs = []\n",
    "\n",
    "csv_files = glob.glob(\n",
    "    os.path.join(f\"{DATA_DIR}/tags\", '*.csv')\n",
    ")\n",
    "for csv_file in csv_files:\n",
    "    df = pd.read_csv(csv_file)\n",
    "    all_dfs.append(df)\n",
    "    \n",
    "combined_df = pd.concat(all_dfs, ignore_index=True)\n",
    "combined_df = combined_df.groupby('Tag', as_index=False)['Count'].sum()\n",
    "combined_df = combined_df.sort_values(by='Count', ascending=False)\n",
    "\n",
    "combined_df[['Key', 'Value']] = combined_df['Tag'].str.extract(r\"\\('([^']*)', '([^']*)'\\)\")\n",
    "\n",
    "combined_df = combined_df[\n",
    "    combined_df['Key'].isin([\n",
    "        'highway', \n",
    "        'surface',\n",
    "        'footway',\n",
    "        'surface',\n",
    "        'oneway',\n",
    "        'lit',\n",
    "        'crossing',\n",
    "    ])\n",
    "]\n",
    "\n",
    "combined_df = combined_df.groupby('Key').apply(get_weights)\n",
    "\n",
    "output_dir = f\"{DATA_DIR}/weights\"\n",
    "if not os.path.exists(output_dir):\n",
    "    os.makedirs(output_dir)\n",
    "\n",
    "combined_df.to_csv(f\"{output_dir}/weights.csv\", index=False)"
   ]
  },
  {
   "cell_type": "code",
   "execution_count": null,
   "id": "5f4261f1",
   "metadata": {},
   "outputs": [],
   "source": []
  }
 ],
 "metadata": {
  "kernelspec": {
   "display_name": "Python 3 (ipykernel)",
   "language": "python",
   "name": "python3"
  },
  "language_info": {
   "codemirror_mode": {
    "name": "ipython",
    "version": 3
   },
   "file_extension": ".py",
   "mimetype": "text/x-python",
   "name": "python",
   "nbconvert_exporter": "python",
   "pygments_lexer": "ipython3",
   "version": "3.9.6"
  }
 },
 "nbformat": 4,
 "nbformat_minor": 5
}
