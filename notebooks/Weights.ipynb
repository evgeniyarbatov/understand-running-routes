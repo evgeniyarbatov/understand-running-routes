{
 "cells": [
  {
   "cell_type": "code",
   "execution_count": 3,
   "id": "d6ef7ae3",
   "metadata": {},
   "outputs": [],
   "source": [
    "import os\n",
    "import glob\n",
    "\n",
    "import pandas as pd"
   ]
  },
  {
   "cell_type": "code",
   "execution_count": 4,
   "id": "50bf6dc3",
   "metadata": {},
   "outputs": [],
   "source": [
    "DATA_DIR = '../data'\n",
    "WEIGHT_MIN = 1\n",
    "WEIGHT_MAX = 100"
   ]
  },
  {
   "cell_type": "code",
   "execution_count": 16,
   "id": "d0f5c222",
   "metadata": {},
   "outputs": [],
   "source": [
    "def get_weights(group):\n",
    "    min_count = group['Count'].min()\n",
    "    max_count = group['Count'].max()\n",
    "    group['Weight'] = WEIGHT_MIN + (group['Count'] - min_count) * (WEIGHT_MAX - 1) / (max_count - min_count)\n",
    "    group['Weight'] = WEIGHT_MAX if group['Weight'].isna().any() else group['Weight']\n",
    "    return group"
   ]
  },
  {
   "cell_type": "code",
   "execution_count": 21,
   "id": "5c1d42ae",
   "metadata": {},
   "outputs": [],
   "source": [
    "all_dfs = []\n",
    "\n",
    "csv_files = glob.glob(\n",
    "    os.path.join(f\"{DATA_DIR}/tags\", '*.csv')\n",
    ")\n",
    "for csv_file in csv_files:\n",
    "    df = pd.read_csv(csv_file)\n",
    "    all_dfs.append(df)\n",
    "    \n",
    "combined_df = pd.concat(all_dfs, ignore_index=True)\n",
    "combined_df = combined_df.groupby('Tag', as_index=False)['Count'].sum()\n",
    "combined_df[['Key', 'Value']] = combined_df['Tag'].str.extract(r\"\\('([^']*)', '([^']*)'\\)\")\n",
    "combined_df = combined_df.sort_values(by='Count', ascending=False)\n",
    "\n",
    "output_dir = f\"{DATA_DIR}/weights\"\n",
    "if not os.path.exists(output_dir):\n",
    "    os.makedirs(output_dir)\n",
    "\n",
    "combined_df.to_csv(f\"{output_dir}/tag-counts.csv\", index=False)\n",
    "\n",
    "combined_df = combined_df[\n",
    "    combined_df['Tag'].isin([\n",
    "        \"('highway', 'footway')\",\n",
    "        \"('footway', 'sidewalk')\",\n",
    "        \"('crossing', 'marked')\",\n",
    "        \"('crossing', 'traffic_signals')\",\n",
    "    ])\n",
    "]\n",
    "\n",
    "combined_df = combined_df.groupby('Key').apply(get_weights)\n",
    "\n",
    "\n",
    "combined_df.to_csv(f\"{output_dir}/weights.csv\", index=False)"
   ]
  },
  {
   "cell_type": "code",
   "execution_count": null,
   "id": "04574e96",
   "metadata": {},
   "outputs": [],
   "source": []
  }
 ],
 "metadata": {
  "kernelspec": {
   "display_name": "Python 3 (ipykernel)",
   "language": "python",
   "name": "python3"
  },
  "language_info": {
   "codemirror_mode": {
    "name": "ipython",
    "version": 3
   },
   "file_extension": ".py",
   "mimetype": "text/x-python",
   "name": "python",
   "nbconvert_exporter": "python",
   "pygments_lexer": "ipython3",
   "version": "3.11.9"
  }
 },
 "nbformat": 4,
 "nbformat_minor": 5
}
