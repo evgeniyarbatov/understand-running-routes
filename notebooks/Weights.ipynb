{
 "cells": [
  {
   "cell_type": "code",
   "execution_count": 14,
   "id": "dfa248a8",
   "metadata": {},
   "outputs": [],
   "source": [
    "import os\n",
    "import glob\n",
    "\n",
    "import pandas as pd"
   ]
  },
  {
   "cell_type": "code",
   "execution_count": 21,
   "id": "924e262e",
   "metadata": {},
   "outputs": [],
   "source": [
    "DATA_DIR = '../data'\n",
    "WEIGHT_MIN = 1\n",
    "WEIGHT_MAX = 100"
   ]
  },
  {
   "cell_type": "code",
   "execution_count": 26,
   "id": "3b73bc92",
   "metadata": {},
   "outputs": [],
   "source": [
    "def get_weights(group):\n",
    "    min_count = group['Count'].min()\n",
    "    max_count = group['Count'].max()\n",
    "    print(min_count, max_count, WEIGHT_MIN + (group['Count'] - min_count) * (WEIGHT_MAX - 1) / (max_count - min_count))\n",
    "    \n",
    "    group['Weight'] = WEIGHT_MIN + (group['Count'] - min_count) * (WEIGHT_MAX - 1) / (max_count - min_count)\n",
    "    return group"
   ]
  },
  {
   "cell_type": "code",
   "execution_count": 27,
   "id": "5b9359b3",
   "metadata": {},
   "outputs": [
    {
     "name": "stdout",
     "output_type": "stream",
     "text": [
      "78 671 32    100.000000\n",
      "31     92.821248\n",
      "30     91.652614\n",
      "33     22.703204\n",
      "34      1.000000\n",
      "Name: Count, dtype: float64\n",
      "2241 4337 51    100.0\n",
      "50      1.0\n",
      "Name: Count, dtype: float64\n",
      "8 12556 64    100.000000\n",
      "61     63.399665\n",
      "56     55.478403\n",
      "66      7.445888\n",
      "59      7.106631\n",
      "62      3.721948\n",
      "60      2.483264\n",
      "65      2.325470\n",
      "58      1.528610\n",
      "57      1.449713\n",
      "63      1.370816\n",
      "67      1.142015\n",
      "69      1.142015\n",
      "68      1.000000\n",
      "Name: Count, dtype: float64\n",
      "467 467 87   NaN\n",
      "Name: Count, dtype: float64\n",
      "1 543 301    100.000000\n",
      "346     65.295203\n",
      "350     53.422509\n",
      "351     45.933579\n",
      "352     32.234317\n",
      "          ...    \n",
      "136      1.000000\n",
      "343      1.000000\n",
      "328      1.000000\n",
      "144      1.000000\n",
      "336      1.000000\n",
      "Name: Count, Length: 243, dtype: float64\n",
      "253 2158 456    100.0\n",
      "455      1.0\n",
      "Name: Count, dtype: float64\n",
      "11 5835 476    100.000000\n",
      "477      9.159341\n",
      "480      5.181662\n",
      "478      4.365728\n",
      "481      1.169986\n",
      "479      1.000000\n",
      "Name: Count, dtype: float64\n"
     ]
    }
   ],
   "source": [
    "all_dfs = []\n",
    "\n",
    "csv_files = glob.glob(\n",
    "    os.path.join(f\"{DATA_DIR}/tags\", '*.csv')\n",
    ")\n",
    "for csv_file in csv_files:\n",
    "    df = pd.read_csv(csv_file)\n",
    "    all_dfs.append(df)\n",
    "    \n",
    "combined_df = pd.concat(all_dfs, ignore_index=True)\n",
    "combined_df = combined_df.groupby('Tag', as_index=False)['Count'].sum()\n",
    "combined_df = combined_df.sort_values(by='Count', ascending=False)\n",
    "\n",
    "combined_df[['Key', 'Value']] = combined_df['Tag'].str.extract(r\"\\('([^']*)', '([^']*)'\\)\")\n",
    "\n",
    "combined_df = combined_df[\n",
    "    combined_df['Key'].isin([\n",
    "        'highway', \n",
    "        'surface',\n",
    "        'footway',\n",
    "        'surface',\n",
    "        'oneway',\n",
    "        'lit',\n",
    "        'name',\n",
    "        'crossing',\n",
    "    ])\n",
    "]\n",
    "\n",
    "combined_df = combined_df.groupby('Key').apply(get_weights)\n",
    "\n",
    "output_dir = f\"{DATA_DIR}/weights\"\n",
    "if not os.path.exists(output_dir):\n",
    "    os.makedirs(output_dir)\n",
    "\n",
    "combined_df.to_csv(f\"{output_dir}/weights.csv\", index=False)"
   ]
  },
  {
   "cell_type": "code",
   "execution_count": null,
   "id": "83f5a0e5",
   "metadata": {},
   "outputs": [],
   "source": []
  }
 ],
 "metadata": {
  "kernelspec": {
   "display_name": "Python 3 (ipykernel)",
   "language": "python",
   "name": "python3"
  },
  "language_info": {
   "codemirror_mode": {
    "name": "ipython",
    "version": 3
   },
   "file_extension": ".py",
   "mimetype": "text/x-python",
   "name": "python",
   "nbconvert_exporter": "python",
   "pygments_lexer": "ipython3",
   "version": "3.11.9"
  }
 },
 "nbformat": 4,
 "nbformat_minor": 5
}
