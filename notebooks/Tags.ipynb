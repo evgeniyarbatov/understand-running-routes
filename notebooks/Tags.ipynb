{
 "cells": [
  {
   "cell_type": "code",
   "execution_count": 1,
   "id": "39870481",
   "metadata": {},
   "outputs": [],
   "source": [
    "import os\n",
    "import glob\n",
    "import ast\n",
    "\n",
    "import pandas as pd\n",
    "\n",
    "from collections import Counter\n",
    "\n",
    "from utils import get_output_path"
   ]
  },
  {
   "cell_type": "code",
   "execution_count": 2,
   "id": "fcb865b4",
   "metadata": {},
   "outputs": [],
   "source": [
    "CITY = 'singapore'\n",
    "# CITY = 'hanoi'\n",
    "\n",
    "DATA_DIR = f\"../data/{CITY}\""
   ]
  },
  {
   "cell_type": "code",
   "execution_count": 3,
   "id": "3f37eb4d",
   "metadata": {},
   "outputs": [],
   "source": [
    "csv_files = glob.glob(\n",
    "    os.path.join(f\"{DATA_DIR}/ways\", '*.csv')\n",
    ")\n",
    "for csv_file in csv_files:\n",
    "    df = pd.read_csv(csv_file)\n",
    "    df['tags'] = df['tags'].apply(lambda x: ast.literal_eval(x))\n",
    "    \n",
    "    tag_pairs = []\n",
    "    for tags_list in df['tags']:\n",
    "        for tag_dict in tags_list:\n",
    "            tag_pairs.extend(tag_dict.items())\n",
    "            \n",
    "    tag_counts = Counter(tag_pairs)\n",
    "    \n",
    "    tag_counts_df = pd.DataFrame(tag_counts.items(), columns=['Tag', 'Count'])\n",
    "    tag_counts_df = tag_counts_df.sort_values(by='Count', ascending=False)\n",
    "    \n",
    "    output_path = get_output_path(f\"{DATA_DIR}/tags\", csv_file, 'csv')\n",
    "    \n",
    "    tag_counts_df.to_csv(output_path, index=False)"
   ]
  },
  {
   "cell_type": "code",
   "execution_count": null,
   "id": "ba51ef4a",
   "metadata": {},
   "outputs": [],
   "source": []
  }
 ],
 "metadata": {
  "kernelspec": {
   "display_name": "Python 3 (ipykernel)",
   "language": "python",
   "name": "python3"
  },
  "language_info": {
   "codemirror_mode": {
    "name": "ipython",
    "version": 3
   },
   "file_extension": ".py",
   "mimetype": "text/x-python",
   "name": "python",
   "nbconvert_exporter": "python",
   "pygments_lexer": "ipython3",
   "version": "3.11.9"
  }
 },
 "nbformat": 4,
 "nbformat_minor": 5
}
