{
 "cells": [
  {
   "cell_type": "code",
   "execution_count": 7,
   "id": "d2e2b4f8",
   "metadata": {},
   "outputs": [],
   "source": [
    "import math\n",
    "import re\n",
    "import os\n",
    "\n",
    "import pandas as pd"
   ]
  },
  {
   "cell_type": "code",
   "execution_count": 8,
   "id": "ba266fb0",
   "metadata": {},
   "outputs": [],
   "source": [
    "DATA_DIR = '../data'\n",
    "WEIGHTS_FILE = f\"{DATA_DIR}/weights/weights.csv\""
   ]
  },
  {
   "cell_type": "code",
   "execution_count": 9,
   "id": "0445a725",
   "metadata": {},
   "outputs": [
    {
     "data": {
      "text/html": [
       "<div>\n",
       "<style scoped>\n",
       "    .dataframe tbody tr th:only-of-type {\n",
       "        vertical-align: middle;\n",
       "    }\n",
       "\n",
       "    .dataframe tbody tr th {\n",
       "        vertical-align: top;\n",
       "    }\n",
       "\n",
       "    .dataframe thead th {\n",
       "        text-align: right;\n",
       "    }\n",
       "</style>\n",
       "<table border=\"1\" class=\"dataframe\">\n",
       "  <thead>\n",
       "    <tr style=\"text-align: right;\">\n",
       "      <th></th>\n",
       "      <th>Tag</th>\n",
       "      <th>Count</th>\n",
       "      <th>Key</th>\n",
       "      <th>Value</th>\n",
       "      <th>Weight</th>\n",
       "    </tr>\n",
       "  </thead>\n",
       "  <tbody>\n",
       "    <tr>\n",
       "      <th>0</th>\n",
       "      <td>('highway', 'service')</td>\n",
       "      <td>12556</td>\n",
       "      <td>highway</td>\n",
       "      <td>service</td>\n",
       "      <td>100.000000</td>\n",
       "    </tr>\n",
       "    <tr>\n",
       "      <th>1</th>\n",
       "      <td>('highway', 'residential')</td>\n",
       "      <td>7917</td>\n",
       "      <td>highway</td>\n",
       "      <td>residential</td>\n",
       "      <td>63.399665</td>\n",
       "    </tr>\n",
       "    <tr>\n",
       "      <th>2</th>\n",
       "      <td>('highway', 'footway')</td>\n",
       "      <td>6913</td>\n",
       "      <td>highway</td>\n",
       "      <td>footway</td>\n",
       "      <td>55.478403</td>\n",
       "    </tr>\n",
       "  </tbody>\n",
       "</table>\n",
       "</div>"
      ],
      "text/plain": [
       "                          Tag  Count      Key        Value      Weight\n",
       "0      ('highway', 'service')  12556  highway      service  100.000000\n",
       "1  ('highway', 'residential')   7917  highway  residential   63.399665\n",
       "2      ('highway', 'footway')   6913  highway      footway   55.478403"
      ]
     },
     "execution_count": 9,
     "metadata": {},
     "output_type": "execute_result"
    }
   ],
   "source": [
    "df = pd.read_csv(WEIGHTS_FILE)\n",
    "df = df.dropna()\n",
    "df.head(3)"
   ]
  },
  {
   "cell_type": "code",
   "execution_count": 10,
   "id": "63f97e08",
   "metadata": {},
   "outputs": [
    {
     "data": {
      "text/html": [
       "<div>\n",
       "<style scoped>\n",
       "    .dataframe tbody tr th:only-of-type {\n",
       "        vertical-align: middle;\n",
       "    }\n",
       "\n",
       "    .dataframe tbody tr th {\n",
       "        vertical-align: top;\n",
       "    }\n",
       "\n",
       "    .dataframe thead th {\n",
       "        text-align: right;\n",
       "    }\n",
       "</style>\n",
       "<table border=\"1\" class=\"dataframe\">\n",
       "  <thead>\n",
       "    <tr style=\"text-align: right;\">\n",
       "      <th></th>\n",
       "      <th>Key</th>\n",
       "      <th>Value</th>\n",
       "      <th>Weight</th>\n",
       "    </tr>\n",
       "  </thead>\n",
       "  <tbody>\n",
       "    <tr>\n",
       "      <th>0</th>\n",
       "      <td>crossing</td>\n",
       "      <td>[uncontrolled, traffic_signals, marked, unmark...</td>\n",
       "      <td>[100.0, 92.8212478920742, 91.65261382799324, 2...</td>\n",
       "    </tr>\n",
       "    <tr>\n",
       "      <th>1</th>\n",
       "      <td>footway</td>\n",
       "      <td>[sidewalk, crossing]</td>\n",
       "      <td>[100.0, 1.0]</td>\n",
       "    </tr>\n",
       "    <tr>\n",
       "      <th>2</th>\n",
       "      <td>highway</td>\n",
       "      <td>[service, residential, footway, tertiary, prim...</td>\n",
       "      <td>[100.0, 63.39966528530443, 55.47840293273829, ...</td>\n",
       "    </tr>\n",
       "    <tr>\n",
       "      <th>3</th>\n",
       "      <td>oneway</td>\n",
       "      <td>[yes, no]</td>\n",
       "      <td>[100.0, 1.0]</td>\n",
       "    </tr>\n",
       "    <tr>\n",
       "      <th>4</th>\n",
       "      <td>surface</td>\n",
       "      <td>[asphalt, concrete, paving_stones, concrete:pl...</td>\n",
       "      <td>[100.0, 9.15934065934066, 5.181662087912088, 4...</td>\n",
       "    </tr>\n",
       "  </tbody>\n",
       "</table>\n",
       "</div>"
      ],
      "text/plain": [
       "        Key                                              Value  \\\n",
       "0  crossing  [uncontrolled, traffic_signals, marked, unmark...   \n",
       "1   footway                               [sidewalk, crossing]   \n",
       "2   highway  [service, residential, footway, tertiary, prim...   \n",
       "3    oneway                                          [yes, no]   \n",
       "4   surface  [asphalt, concrete, paving_stones, concrete:pl...   \n",
       "\n",
       "                                              Weight  \n",
       "0  [100.0, 92.8212478920742, 91.65261382799324, 2...  \n",
       "1                                       [100.0, 1.0]  \n",
       "2  [100.0, 63.39966528530443, 55.47840293273829, ...  \n",
       "3                                       [100.0, 1.0]  \n",
       "4  [100.0, 9.15934065934066, 5.181662087912088, 4...  "
      ]
     },
     "execution_count": 10,
     "metadata": {},
     "output_type": "execute_result"
    }
   ],
   "source": [
    "grouped_df = df.groupby('Key')[['Value', 'Weight']].agg(list).reset_index()\n",
    "grouped_df.head(10)"
   ]
  },
  {
   "cell_type": "code",
   "execution_count": 11,
   "id": "b64c7f26",
   "metadata": {},
   "outputs": [],
   "source": [
    "get_tags = \"\"\n",
    "tag_conditions = \"\"\n",
    "\n",
    "for _, row in grouped_df.iterrows():\n",
    "    get_tag = f\"\"\"\n",
    "local {row['Key']} = way:get_value_by_key('{row['Key']}')\n",
    "    \"\"\"\n",
    "    get_tags += get_tag\n",
    "    for value, weight in zip(row['Value'], row['Weight']):        \n",
    "        tag_condition = f\"\"\"\n",
    "if {row['Key']} == '{value}' then\n",
    "    result.forward_rate = result.forward_speed * {weight}\n",
    "    result.backward_rate = result.backward_speed * {weight}\n",
    "end\n",
    "        \"\"\"\n",
    "        tag_conditions += tag_condition\n",
    "        \n",
    "custom_tag_weigths = f\"\"\"\n",
    "function custom_tag_weights(profile, way, result, data)\n",
    "{get_tags}\n",
    "{tag_conditions}\n",
    "end\n",
    "\"\"\"\n",
    "\n",
    "custom_tag_weigths = re.sub(r'\\n\\s*\\n', '\\n', custom_tag_weigths)\n",
    "\n",
    "output_dir = f\"{DATA_DIR}/profile\"\n",
    "if not os.path.exists(output_dir):\n",
    "    os.makedirs(output_dir)\n",
    "    \n",
    "with open(f\"{output_dir}/custom.lua\", 'w') as file:\n",
    "    file.write(custom_tag_weigths)"
   ]
  },
  {
   "cell_type": "code",
   "execution_count": null,
   "id": "5dee8f7d",
   "metadata": {},
   "outputs": [],
   "source": []
  }
 ],
 "metadata": {
  "kernelspec": {
   "display_name": "Python 3 (ipykernel)",
   "language": "python",
   "name": "python3"
  },
  "language_info": {
   "codemirror_mode": {
    "name": "ipython",
    "version": 3
   },
   "file_extension": ".py",
   "mimetype": "text/x-python",
   "name": "python",
   "nbconvert_exporter": "python",
   "pygments_lexer": "ipython3",
   "version": "3.11.9"
  }
 },
 "nbformat": 4,
 "nbformat_minor": 5
}
