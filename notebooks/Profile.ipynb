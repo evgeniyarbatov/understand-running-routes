{
 "cells": [
  {
   "cell_type": "code",
   "execution_count": null,
   "id": "12860ca7",
   "metadata": {},
   "outputs": [],
   "source": []
  },
  {
   "cell_type": "code",
   "execution_count": null,
   "id": "7cce55e6",
   "metadata": {},
   "outputs": [],
   "source": [
    "GET_TAG = f\"\"\"\n",
    "    local {tag_name} = way:get_value_by_key('{tag_name}')\n",
    "\"\"\"\n",
    "\n",
    "TAG_CONDITION = f\"\"\"\n",
    "    if {tag_name} == '{tag_value}' then\n",
    "        result.forward_rate = result.forward_speed * {tag_weight}\n",
    "        result.backward_rate = result.backward_speed * {tag_weight}\n",
    "    end\n",
    "\"\"\"\n",
    "\n",
    "CUSTOM_WAY_HANDLER = f\"\"\"\n",
    "function custom_tag_weights(profile, way, result, data)\n",
    "    -- Prefer ways with certain tags\n",
    "    {TAG_CONDITIONS}\n",
    "\n",
    "    -- Default handling for other ways\n",
    "    else\n",
    "        result.forward_rate = result.forward_speed\n",
    "        result.backward_rate = result.backward_speed\n",
    "    end\n",
    "end\n",
    "\"\"\""
   ]
  }
 ],
 "metadata": {
  "kernelspec": {
   "display_name": "Python 3 (ipykernel)",
   "language": "python",
   "name": "python3"
  },
  "language_info": {
   "codemirror_mode": {
    "name": "ipython",
    "version": 3
   },
   "file_extension": ".py",
   "mimetype": "text/x-python",
   "name": "python",
   "nbconvert_exporter": "python",
   "pygments_lexer": "ipython3",
   "version": "3.11.9"
  }
 },
 "nbformat": 4,
 "nbformat_minor": 5
}
